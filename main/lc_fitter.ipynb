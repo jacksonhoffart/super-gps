{
 "cells": [
  {
   "cell_type": "code",
   "execution_count": 1,
   "metadata": {
    "collapsed": false
   },
   "outputs": [],
   "source": [
    "# Authors:\n",
    "# Jackson Hoffart <jackson dot hoffart at gmail dot com>\n",
    "\n",
    "# License: GPL-3.0\n",
    "\n",
    "# include this when deploying!\n",
    "# ! pip freeze > requirements.txt\n",
    "\n",
    "''' import some cheeky modules '''\n",
    "\n",
    "# standard modules\n",
    "import os\n",
    "import numpy as np\n",
    "import matplotlib\n",
    "import matplotlib.pyplot as plt\n",
    "import matplotlib.cm as cm\n",
    "\n",
    "# optimization module\n",
    "import scipy.optimize as op\n",
    "\n",
    "# gaussian process library by DFM\n",
    "import george\n",
    "from george import kernels\n",
    "\n",
    "# super GP modules\n",
    "import superGPmods as SGP"
   ]
  },
  {
   "cell_type": "code",
   "execution_count": 2,
   "metadata": {
    "collapsed": false,
    "scrolled": true
   },
   "outputs": [],
   "source": [
    "''' load and tidy data '''\n",
    "# path to dataset\n",
    "prefix = '../data/'\n",
    "# lcs or photo?\n",
    "ext = 'lightcurves/'\n",
    "# ext = 'photometry'\n",
    "\n",
    "path = prefix + ext\n",
    "\n",
    "'''load all datasets into single numpy array'''\n",
    "# this will produce a nested python list of all SNe .txt files.\n",
    "# each element of the list is a numpy array\n",
    "\n",
    "dataset = SGP.loadData(path)\n",
    "\n",
    "# now len(dataset) = N, for N SNe lightcurve datasets\n",
    "# each element of the list is a numpy array with 8 columns and some number of rows (the time series): \n",
    "# 'VARLIST', 'MJD', 'FLT', 'FIELD', 'FLUXCAL', 'FLUXCALERR', 'MAG', 'MAGERR'\n",
    "# e.g. dataset[1]['MJD'] will display the modified julian date values for the 2nd SN dataset"
   ]
  },
  {
   "cell_type": "code",
   "execution_count": 4,
   "metadata": {
    "collapsed": false
   },
   "outputs": [],
   "source": [
    "flt_set = []\n",
    "for data in dataset:\n",
    "    flt_set.append(np.array(SGP.listFilters(data)))"
   ]
  },
  {
   "cell_type": "code",
   "execution_count": 10,
   "metadata": {
    "collapsed": false
   },
   "outputs": [
    {
     "name": "stdout",
     "output_type": "stream",
     "text": [
      "183\n"
     ]
    }
   ],
   "source": [
    "import random\n",
    "choice = random.choice(range(len(dataset)))\n",
    "random_dataset = dataset[choice]\n",
    "flts = flt_set[choice]\n",
    "flt1 = flts[0]\n",
    "x = []\n",
    "y = []\n",
    "yerr = []\n",
    "\n",
    "for i in range(0,len(random_dataset['FLT'])):\n",
    "    if random_dataset['FLT'][i]==flts[0]:\n",
    "        x.append(random_dataset['MJD'][i])\n",
    "        y.append(random_dataset['MAG'][i])\n",
    "        yerr.append(random_dataset['MAGERR'][i])\n",
    "print choice"
   ]
  },
  {
   "cell_type": "code",
   "execution_count": 12,
   "metadata": {
    "collapsed": false
   },
   "outputs": [
    {
     "name": "stdout",
     "output_type": "stream",
     "text": [
      "53624.743363 25.092211 6.640636\n"
     ]
    }
   ],
   "source": [
    "print x[10], y[10], yerr[10] "
   ]
  },
  {
   "cell_type": "code",
   "execution_count": 13,
   "metadata": {
    "collapsed": false
   },
   "outputs": [
    {
     "data": {
      "image/png": "[encoded data removed]",
      "text/plain": [
       "<matplotlib.figure.Figure at 0x10dee00d0>"
      ]
     },
     "metadata": {},
     "output_type": "display_data"
    }
   ],
   "source": [
    "plt.figure()\n",
    "plt.errorbar(x,yerr,y)\n",
    "plt.show()"
   ]
  },
  {
   "cell_type": "code",
   "execution_count": 17,
   "metadata": {
    "collapsed": false
   },
   "outputs": [
    {
     "name": "stdout",
     "output_type": "stream",
     "text": [
      "800\n",
      "[ 56769.042413  56770.042413  56771.042413  56772.042413  56773.042413\n",
      "  56774.042413  56775.042413  56776.042413  56777.042413  56778.042413\n",
      "  56779.042413  56780.042413  56781.042413  56782.042413  56783.042413\n",
      "  56784.042413  56785.042413  56786.042413  56787.042413  56788.042413\n",
      "  56789.042413  56790.042413  56791.042413  56792.042413  56793.042413\n",
      "  56794.042413  56795.042413  56796.042413  56797.042413  56798.042413\n",
      "  56799.042413  56800.042413  56801.042413  56802.042413  56803.042413\n",
      "  56804.042413  56805.042413  56806.042413  56807.042413  56808.042413\n",
      "  56809.042413  56810.042413  56811.042413  56812.042413  56813.042413\n",
      "  56814.042413  56815.042413  56816.042413  56817.042413  56818.042413\n",
      "  56819.042413  56820.042413  56821.042413  56822.042413  56823.042413\n",
      "  56824.042413  56825.042413  56826.042413  56827.042413  56828.042413\n",
      "  56829.042413  56830.042413  56831.042413  56832.042413  56833.042413\n",
      "  56834.042413  56835.042413  56836.042413  56837.042413  56838.042413\n",
      "  56839.042413  56840.042413  56841.042413  56842.042413  56843.042413\n",
      "  56844.042413  56845.042413  56846.042413  56847.042413  56848.042413\n",
      "  56849.042413  56850.042413  56851.042413  56852.042413  56853.042413\n",
      "  56854.042413  56855.042413  56856.042413  56857.042413  56858.042413\n",
      "  56859.042413  56860.042413  56861.042413  56862.042413  56863.042413\n",
      "  56864.042413  56865.042413  56866.042413  56867.042413  56868.042413\n",
      "  56869.042413  56870.042413  56871.042413  56872.042413  56873.042413\n",
      "  56769.042413  56770.042413  56771.042413  56772.042413  56773.042413\n",
      "  56774.042413  56775.042413  56776.042413  56777.042413  56778.042413\n",
      "  56779.042413  56780.042413  56781.042413  56782.042413  56783.042413\n",
      "  56784.042413  56785.042413  56786.042413  56787.042413  56788.042413\n",
      "  56789.042413  56790.042413  56791.042413  56792.042413  56793.042413\n",
      "  56794.042413  56795.042413  56796.042413  56797.042413  56798.042413\n",
      "  56799.042413  56800.042413  56801.042413  56802.042413  56803.042413\n",
      "  56804.042413  56805.042413  56806.042413  56807.042413  56808.042413\n",
      "  56809.042413  56810.042413  56811.042413  56812.042413  56813.042413\n",
      "  56814.042413  56815.042413  56816.042413  56817.042413  56818.042413\n",
      "  56819.042413  56820.042413  56821.042413  56822.042413  56823.042413\n",
      "  56824.042413  56825.042413  56826.042413  56827.042413  56828.042413\n",
      "  56829.042413  56830.042413  56831.042413  56832.042413  56833.042413\n",
      "  56834.042413  56835.042413  56836.042413  56837.042413  56838.042413\n",
      "  56839.042413  56840.042413  56841.042413  56842.042413  56843.042413\n",
      "  56844.042413  56845.042413  56846.042413  56847.042413  56848.042413\n",
      "  56849.042413  56850.042413  56851.042413  56852.042413  56853.042413\n",
      "  56854.042413  56855.042413  56856.042413  56857.042413  56858.042413\n",
      "  56859.042413  56860.042413  56861.042413  56862.042413  56863.042413\n",
      "  56864.042413  56865.042413  56866.042413  56867.042413  56868.042413\n",
      "  56869.042413  56870.042413  56871.042413  56872.042413  56873.042413\n",
      "  56769.042413  56770.042413  56771.042413  56772.042413  56773.042413\n",
      "  56774.042413  56775.042413  56776.042413  56777.042413  56778.042413\n",
      "  56779.042413  56780.042413  56781.042413  56782.042413  56783.042413\n",
      "  56784.042413  56785.042413  56786.042413  56787.042413  56788.042413\n",
      "  56789.042413  56790.042413  56791.042413  56792.042413  56793.042413\n",
      "  56794.042413  56795.042413  56796.042413  56797.042413  56798.042413\n",
      "  56799.042413  56800.042413  56801.042413  56802.042413  56803.042413\n",
      "  56804.042413  56805.042413  56806.042413  56807.042413  56808.042413\n",
      "  56809.042413  56810.042413  56811.042413  56812.042413  56813.042413\n",
      "  56814.042413  56815.042413  56816.042413  56817.042413  56818.042413\n",
      "  56819.042413  56820.042413  56821.042413  56822.042413  56823.042413\n",
      "  56824.042413  56825.042413  56826.042413  56827.042413  56828.042413\n",
      "  56829.042413  56830.042413  56831.042413  56832.042413  56833.042413\n",
      "  56834.042413  56835.042413  56836.042413  56837.042413  56838.042413\n",
      "  56839.042413  56840.042413  56841.042413  56842.042413  56843.042413\n",
      "  56844.042413  56845.042413  56846.042413  56847.042413  56848.042413\n",
      "  56849.042413  56850.042413  56851.042413  56852.042413  56853.042413\n",
      "  56854.042413  56855.042413  56856.042413  56857.042413  56858.042413\n",
      "  56859.042413  56860.042413  56861.042413  56862.042413  56863.042413\n",
      "  56864.042413  56865.042413  56866.042413  56867.042413  56868.042413\n",
      "  56869.042413  56870.042413  56871.042413  56872.042413  56873.042413]\n"
     ]
    }
   ],
   "source": [
    "print len(dataset)\n",
    "print dataset[0]['MJD']"
   ]
  },
  {
   "cell_type": "code",
   "execution_count": null,
   "metadata": {
    "collapsed": false
   },
   "outputs": [],
   "source": [
    "\n",
    "# convert the UBVRI strings into the relevent wavelengths in nm\n",
    "flt_nm = []\n",
    "\n",
    "for i in range(0,len(data['FLT'])):\n",
    "    if data['FLT'][i] == 'U':\n",
    "        flt_nm.append(365.0)\n",
    "    if data['FLT'][i] == 'B':\n",
    "        flt_nm.append(445.0)\n",
    "    if data['FLT'][i] == 'V':\n",
    "        flt_nm.append(551.0)\n",
    "    if data['FLT'][i] == 'R':\n",
    "        flt_nm.append(658.0)\n",
    "    if data['FLT'][i] == 'I':\n",
    "        flt_nm.append(806.0)\n",
    "    if data['FLT'][i] == 'u':\n",
    "        flt_nm.append(358.0)\n",
    "    if data['FLT'][i] == 'g':\n",
    "        flt_nm.append(475.4)\n",
    "    if data['FLT'][i] == 'r':\n",
    "        flt_nm.append(620.4)\n",
    "    if data['FLT'][i] == 'i':\n",
    "        flt_nm.append(769.8)\n",
    "    if data['FLT'][i] == 'z':\n",
    "        flt_nm.append(966.5)\n",
    "        \n",
    "x = np.array([data['MJD'],flt_nm]).T\n",
    "mjd, flt = x.T\n",
    "y = np.array(data['MAG'])\n",
    "yerr = np.array(data['MAGERR'])"
   ]
  },
  {
   "cell_type": "markdown",
   "metadata": {},
   "source": [
    "## k0\n",
    "$ k_0(r) = \\theta_0^2 \\delta_{ij} $\n",
    "\n",
    "To model the noise, we include a white noise kernel. The only hyper is the amplitude of the delta function, $\\theta_0$\n",
    "\n",
    "## k1\n",
    "$ k_1(r) = \\theta_1(\\lambda)^2\\delta_{\\lambda\\lambda'} \\, \\exp \\left(-\\frac{r^2}{2\\,\\theta_2} \\right) $\n",
    "\n",
    "To model the smooth decay in time, we use a squared exponential (SE) covariance term, \n",
    "with hypers controlling the amplitude $\\theta_1$, which can arbitrarily vary with wavelength, and characteristic lengthscale $\\theta_2$."
   ]
  },
  {
   "cell_type": "code",
   "execution_count": null,
   "metadata": {
    "collapsed": false
   },
   "outputs": [],
   "source": [
    "maxy = np.array((max(y), x[np.argmax(y)][0], x[np.argmax(y)][1]))\n",
    "miny = np.array((min(y), x[np.argmin(y)][0], x[np.argmin(y)][1]))\n",
    "medy = np.array((np.median(y), x[np.argsort(y)[len(y)//2]][0],x[np.argsort(y)[len(y)//2]][1]) )\n",
    "\n",
    "v1 = miny - maxy\n",
    "v2 = medy - maxy\n",
    "\n",
    "cp = np.cross(v1, v2)\n",
    "a, b, c = cp\n",
    "\n",
    "d = np.dot(cp, miny)\n",
    "params = a,b,c,d\n",
    "\n",
    "def mean_function(x):\n",
    "    return (d-b*x[:,0]-c*x[:,1])/a"
   ]
  },
  {
   "cell_type": "code",
   "execution_count": null,
   "metadata": {
    "collapsed": false
   },
   "outputs": [],
   "source": [
    "''' setup Gaussian process with initialized parameters '''\n",
    "\n",
    "# initial hyperparameters\n",
    "theta0 = [1.0, 300.0, 10.0]\n",
    "print 'The initial hypers are %s' % theta0\n",
    "\n",
    "# noise\n",
    "k0 = theta0[0] * kernels.Matern32Kernel(metric=theta0[1],ndim=2,dim=1)\n",
    "\n",
    "# SE kernel for time, with amplitude that varies with wavelength\n",
    "k1 = kernels.ExpSquaredKernel(metric=theta0[2]**2,ndim=2,dim=0)\n",
    "\n",
    "# full kernel\n",
    "kernel = k0 * k1\n",
    "\n",
    "# set up gaussian process, setting the mean as the mean of the magnitude data\n",
    "gp = george.GP(kernel, mean=mean_function)\n",
    "\n",
    "# pre-compute the factorization of the covariance matrix\n",
    "gp.compute(x, yerr)\n",
    "\n",
    "# print the initial log likelihood and gradient, using the initial hypers\n",
    "print 'The initial ln likelihood is %f' % gp.lnlikelihood(y)\n",
    "print 'The initial gradient with respect to the hypers is %s' % gp.grad_lnlikelihood(y)\n",
    "\n",
    "# predict (using initial hypers)\n",
    "t0x, t0y = np.meshgrid(np.linspace(min(mjd), max(mjd), 50),np.linspace(min(flt), max(flt), 50))\n",
    "t0 = np.array([t0x.ravel(), t0y.ravel()]).T\n",
    "mu0, cov0 = gp.predict(y, t0)\n",
    "std0 = np.sqrt(np.diag(cov0))\n"
   ]
  },
  {
   "cell_type": "code",
   "execution_count": null,
   "metadata": {
    "collapsed": false
   },
   "outputs": [],
   "source": [
    "# optimize hypers\n",
    "\n",
    "# define the objective function (negative log-likelihood in this case)\n",
    "def nll(p):\n",
    "    # update the kernel parameters and compute the likelihood\n",
    "    gp.kernel[:] = p\n",
    "    ll = gp.lnlikelihood(y, quiet=True)\n",
    "\n",
    "    # the scipy optimizer doesn't play well with infinities\n",
    "    return -ll if np.isfinite(ll) else 1e25\n",
    "\n",
    "# the gradient of the objective function.\n",
    "def grad_nll(p):\n",
    "    # update the kernel parameters and compute the likelihood\n",
    "    gp.kernel[:] = p\n",
    "    return -gp.grad_lnlikelihood(y, quiet=True)\n",
    "\n",
    "# run the optimization routine\n",
    "p0 = gp.kernel.vector # np.log(theta[0]**2, theta[1]**2, theta[2])\n",
    "\n",
    "results = op.minimize(nll, p0, jac=grad_nll)\n",
    "\n",
    "# update the kernel and print the final log-likelihood and gradient\n",
    "gp.kernel[:] = results.x\n",
    "\n",
    "# theta = theta_from_x(results)\n",
    "theta = [np.sqrt(np.exp(results.x[0])),np.exp(results.x[1]),np.exp(results.x[2])]\n",
    "print 'The optimized hypers are %s' % theta\n",
    "print 'The optimized ln likelihood is %f' % gp.lnlikelihood(y)\n",
    "print 'The optimized gradient with respect to the hypers is %s' % gp.grad_lnlikelihood(y)\n",
    "\n",
    "# predict (using final hypers)\n",
    "mu, cov = gp.predict(y, t0)\n",
    "std = np.sqrt(np.diag(cov))\n",
    "\n",
    "# predict slice\n",
    "t0x_slice = np.linspace(min(mjd), max(mjd), 500)\n",
    "t0y_slice_445 = 445.0 * np.ones_like(t0x_slice)\n",
    "t0y_slice_551 = 551.0 * np.ones_like(t0x_slice)\n",
    "t0y_slice_658 = 658.0 * np.ones_like(t0x_slice)\n",
    "t0y_slice_806 = 806.0 * np.ones_like(t0x_slice)\n",
    "\n",
    "t0_slice_445 = np.array([t0x_slice, t0y_slice_445]).T\n",
    "t0_slice_551 = np.array([t0x_slice, t0y_slice_551]).T\n",
    "t0_slice_658 = np.array([t0x_slice, t0y_slice_658]).T\n",
    "t0_slice_806 = np.array([t0x_slice, t0y_slice_806]).T\n",
    "\n",
    "mu_slice_445, cov_slice_445 = gp.predict(y, t0_slice_445)\n",
    "std_slice_445 = np.sqrt(np.diag(cov_slice_445))\n",
    "\n",
    "mu_slice_551, cov_slice_551 = gp.predict(y, t0_slice_551)\n",
    "std_slice_551 = np.sqrt(np.diag(cov_slice_551))\n",
    "\n",
    "mu_slice_658, cov_slice_658 = gp.predict(y, t0_slice_658)\n",
    "std_slice_658 = np.sqrt(np.diag(cov_slice_658))\n",
    "\n",
    "mu_slice_806, cov_slice_806 = gp.predict(y, t0_slice_806)\n",
    "std_slice_806 = np.sqrt(np.diag(cov_slice_806))"
   ]
  },
  {
   "cell_type": "code",
   "execution_count": null,
   "metadata": {
    "collapsed": true
   },
   "outputs": [],
   "source": [
    "y_445=[]\n",
    "yerr_445=[]\n",
    "mjd_445=[]\n",
    "\n",
    "y_551=[]\n",
    "yerr_551=[]\n",
    "mjd_551=[]\n",
    "\n",
    "y_658=[]\n",
    "yerr_658=[]\n",
    "mjd_658=[]\n",
    "\n",
    "y_806=[]\n",
    "yerr_806=[]\n",
    "mjd_806=[]\n",
    "\n",
    "for i in range(0,len(flt)):\n",
    "    if flt[i]==445.0:\n",
    "        y_445.append(y[i])\n",
    "        yerr_445.append(yerr[i])\n",
    "        mjd_445.append(mjd[i])\n",
    "    if flt[i]==551.0:\n",
    "        y_551.append(y[i])\n",
    "        yerr_551.append(yerr[i])\n",
    "        mjd_551.append(mjd[i])\n",
    "    if flt[i]==658.0:\n",
    "        y_658.append(y[i])\n",
    "        yerr_658.append(yerr[i])\n",
    "        mjd_658.append(mjd[i])\n",
    "    if flt[i]==806.0:\n",
    "        y_806.append(y[i])\n",
    "        yerr_806.append(yerr[i])\n",
    "        mjd_806.append(mjd[i])"
   ]
  },
  {
   "cell_type": "code",
   "execution_count": null,
   "metadata": {
    "collapsed": false
   },
   "outputs": [],
   "source": [
    "'''3D plot'''\n",
    "\n",
    "from mpl_toolkits.mplot3d import Axes3D\n",
    "fig = plt.figure()\n",
    "ax = fig.add_subplot(111, projection='3d')\n",
    "\n",
    "ax.set_xlim([-2,max(t0.T[0])-min(t0.T[0])+2])\n",
    "ax.set_ylim([min(t0.T[1])-2,max(t0.T[1])+2])\n",
    "ax.set_zlim([max(mu)+1.5,min(mu)-4.0])\n",
    "\n",
    "\n",
    "ax.scatter(mjd_445-min(mjd_445), 445.0*np.ones_like(mjd_445), y_445, marker='o',c='#4D9DE0')\n",
    "ax.scatter(mjd_551-min(mjd_551), 551.0*np.ones_like(mjd_551), y_551, marker='o',c='#E1BC29')\n",
    "ax.scatter(mjd_658-min(mjd_658), 658.0*np.ones_like(mjd_658), y_658, marker='o',c='#E15554')\n",
    "ax.scatter(mjd_806-min(mjd_806), 806.0*np.ones_like(mjd_806), y_806, marker='o',c='#7768AE')\n",
    "\n",
    "ax.plot_trisurf(t0.T[0]-min(t0.T[0]), t0.T[1], mu,  alpha=0.1)\n",
    "\n",
    "ax.text2D(0.05, 0.95, \"SN 2000fa\", transform=ax.transAxes)\n",
    "ax.set_xlabel('Days')\n",
    "ax.set_ylabel('Wavelength [nm]')\n",
    "ax.set_zlabel('Luminosity [mag]')\n",
    "plt.yticks(np.arange(500, 900, 100.0))\n",
    "\n",
    "ax.view_init(elev=21., azim=-79.)\n",
    "\n",
    "plt.show()\n",
    "plt.savefig('surface_band_fit',dpi=300)"
   ]
  },
  {
   "cell_type": "code",
   "execution_count": null,
   "metadata": {
    "collapsed": false
   },
   "outputs": [],
   "source": [
    "'''Slice plots'''\n",
    "matplotlib.rcParams.update({'font.size': 16})\n",
    "# optimized GP fit\n",
    "fig, ax = plt.subplots(1,1)\n",
    "ax.set_xlim([-2,max(t0x_slice)-min(t0x_slice)+2])\n",
    "ax.set_ylim([max(mu_slice_445+std_slice_445)+0.1,min(mu_slice_445-std_slice_445)-0.1])\n",
    "\n",
    "# ax.errorbar(t0[0:500],y,yerr=yerr, lw=0.5, ls='None', label='data')\n",
    "ax.plot(t0x_slice-min(mjd_445),mu_slice_445,label='B Band GP Fit',color=\"#326793\", alpha=1)\n",
    "\n",
    "ax.errorbar(mjd_445-min(mjd_445), y_445,yerr_445, c='#4D9DE0',fmt=\"o\", capsize=0)\n",
    "ax.fill_between(t0x_slice-min(mjd_445), mu_slice_445+std_slice_445, mu_slice_445-std_slice_445, facecolor='#56B3FF', alpha=0.1, label = '2$\\sigma$ confidence')\n",
    "\n",
    "# plt.title('%s Band GP Fit of %s' % (band,name))\n",
    "plt.legend()\n",
    "plt.xlabel('Days')\n",
    "plt.ylabel('Luminosity [mag]')\n",
    "\n",
    "# #save fig\n",
    "# fig_ext = 'fig/photometry_'+name+'_'+band+'band'\n",
    "plt.savefig('b_band_fit',dpi=300)\n",
    "\n",
    "plt.show()\n"
   ]
  },
  {
   "cell_type": "code",
   "execution_count": null,
   "metadata": {
    "collapsed": false
   },
   "outputs": [],
   "source": [
    "'''Slice plots'''\n",
    "# optimized GP fit\n",
    "fig, ax = plt.subplots(1,1)\n",
    "ax.set_xlim([-2,max(t0x_slice)-min(t0x_slice)+2])\n",
    "ax.set_ylim([max(mu_slice_551+std_slice_551)+0.1,min(mu_slice_551-std_slice_551)-0.1])\n",
    "\n",
    "# ax.errorbar(t0[0:500],y,yerr=yerr, lw=0.5, ls='None', label='data')\n",
    "ax.plot(t0x_slice-min(mjd_551),mu_slice_551,label='V Band GP Fit',color=\"#937B1A\", alpha=1)\n",
    "\n",
    "ax.errorbar(mjd_551-min(mjd_551), y_551,yerr_551, c='#E1BC29',fmt=\"o\", capsize=0)\n",
    "ax.fill_between(t0x_slice-min(mjd_551), mu_slice_551+std_slice_551, mu_slice_551-std_slice_551, facecolor='#FFD52D', alpha=0.1, label = '2$\\sigma$ confidence')\n",
    "\n",
    "# plt.title('%s Band GP Fit of %s' % (band,name))\n",
    "plt.legend()\n",
    "plt.xlabel('Days')\n",
    "plt.ylabel('Luminosity [mag]')\n",
    "\n",
    "# #save fig\n",
    "# fig_ext = 'fig/photometry_'+name+'_'+band+'band'\n",
    "plt.savefig('v_band_fit',dpi=300)\n",
    "\n",
    "plt.show()"
   ]
  },
  {
   "cell_type": "code",
   "execution_count": null,
   "metadata": {
    "collapsed": false
   },
   "outputs": [],
   "source": [
    "'''Slice plots'''\n",
    "# optimized GP fit\n",
    "fig, ax = plt.subplots(1,1)\n",
    "ax.set_xlim([-2,max(t0x_slice)-min(t0x_slice)+2])\n",
    "ax.set_ylim([max(mu_slice_658+std_slice_658)+0.1,min(mu_slice_658-std_slice_658)-0.1])\n",
    "\n",
    "# ax.errorbar(t0[0:500],y,yerr=yerr, lw=0.5, ls='None', label='data')\n",
    "ax.plot(t0x_slice-min(mjd_658),mu_slice_658,label='R Band GP Fit',color=\"#933636\", alpha=1)\n",
    "\n",
    "ax.errorbar(mjd_658-min(mjd_658), y_658,yerr_658, c='#E15554',fmt=\"o\", capsize=0)\n",
    "ax.fill_between(t0x_slice-min(mjd_658), mu_slice_658+std_slice_658, mu_slice_658-std_slice_658, facecolor='#FF5E5E', alpha=0.1, label = '2$\\sigma$ confidence')\n",
    "\n",
    "# plt.title('%s Band GP Fit of %s' % (band,name))\n",
    "plt.legend()\n",
    "plt.xlabel('Days')\n",
    "plt.ylabel('Luminosity [mag]')\n",
    "\n",
    "# #save fig\n",
    "# fig_ext = 'fig/photometry_'+name+'_'+band+'band'\n",
    "plt.savefig('r_band_fit',dpi=300)\n",
    "\n",
    "plt.show()"
   ]
  },
  {
   "cell_type": "code",
   "execution_count": null,
   "metadata": {
    "collapsed": false
   },
   "outputs": [],
   "source": [
    "'''Slice plots'''\n",
    "# optimized GP fit\n",
    "fig, ax = plt.subplots(1,1)\n",
    "ax.set_xlim([-2,max(t0x_slice)-min(t0x_slice)+2])\n",
    "ax.set_ylim([max(mu_slice_806+std_slice_806)+0.1,min(mu_slice_806-std_slice_806)-0.1])\n",
    "\n",
    "# ax.errorbar(t0[0:500],y,yerr=yerr, lw=0.5, ls='None', label='data')\n",
    "ax.plot(t0x_slice-min(mjd_806),mu_slice_806,label='I Band GP Fit',color=\"#423A60\", alpha=1)\n",
    "\n",
    "ax.errorbar(mjd_806-min(mjd_806), y_806,yerr_806, c='#7768AE',fmt=\"o\", capsize=0)\n",
    "ax.fill_between(t0x_slice-min(mjd_806), mu_slice_806+std_slice_806, mu_slice_806-std_slice_806, facecolor='#AF99FF', alpha=0.1, label = '2$\\sigma$ confidence')\n",
    "\n",
    "# plt.title('%s Band GP Fit of %s' % (band,name))\n",
    "plt.legend()\n",
    "plt.xlabel('Days')\n",
    "plt.ylabel('Luminosity [mag]')\n",
    "\n",
    "# #save fig\n",
    "# fig_ext = 'fig/photometry_'+name+'_'+band+'band'\n",
    "plt.savefig('i_band_fit',dpi=300)\n",
    "\n",
    "plt.show()"
   ]
  },
  {
   "cell_type": "code",
   "execution_count": null,
   "metadata": {
    "collapsed": true
   },
   "outputs": [],
   "source": []
  },
  {
   "cell_type": "code",
   "execution_count": null,
   "metadata": {
    "collapsed": true
   },
   "outputs": [],
   "source": []
  }
 ],
 "metadata": {
  "anaconda-cloud": {},
  "kernelspec": {
   "display_name": "Python [conda root]",
   "language": "python",
   "name": "conda-root-py"
  },
  "language_info": {
   "codemirror_mode": {
    "name": "ipython",
    "version": 2
   },
   "file_extension": ".py",
   "mimetype": "text/x-python",
   "name": "python",
   "nbconvert_exporter": "python",
   "pygments_lexer": "ipython2",
   "version": "2.7.12"
  }
 },
 "nbformat": 4,
 "nbformat_minor": 1
}
